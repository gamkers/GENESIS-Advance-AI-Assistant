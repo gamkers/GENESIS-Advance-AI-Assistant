{
 "cells": [
  {
   "cell_type": "code",
   "execution_count": 1,
   "id": "779b7cfd",
   "metadata": {},
   "outputs": [
    {
     "name": "stdout",
     "output_type": "stream",
     "text": [
      "pygame 2.5.2 (SDL 2.28.3, Python 3.8.8)\n",
      "Hello from the pygame community. https://www.pygame.org/contribute.html\n"
     ]
    }
   ],
   "source": [
    "import speech_recognition as sr\n",
    "import pyttsx3\n",
    "import pygame\n"
   ]
  },
  {
   "cell_type": "code",
   "execution_count": 2,
   "id": "ec67ead0",
   "metadata": {},
   "outputs": [],
   "source": [
    "\n",
    "recognizer = sr.Recognizer()\n",
    "engine = pyttsx3.init()\n"
   ]
  },
  {
   "cell_type": "code",
   "execution_count": 3,
   "id": "386dacc0",
   "metadata": {},
   "outputs": [],
   "source": [
    "\n",
    "# Function to speak text\n",
    "def talk(text):\n",
    "    engine.say(text)\n",
    "    engine.runAndWait()\n"
   ]
  },
  {
   "cell_type": "code",
   "execution_count": 4,
   "id": "42d6f9ca",
   "metadata": {},
   "outputs": [],
   "source": [
    "\n",
    "pygame.mixer.init()\n",
    "def play_music():\n",
    "    pygame.mixer.music.load(\"location of the audio file\") \n",
    "    pygame.mixer.music.play()\n",
    "\n"
   ]
  },
  {
   "cell_type": "code",
   "execution_count": 5,
   "id": "90b264f0",
   "metadata": {},
   "outputs": [],
   "source": [
    "\n",
    "# Function to take user's command\n",
    "def take_command():\n",
    "    with sr.Microphone() as source:\n",
    "        print(\"Listening...\")\n",
    "        recognizer.adjust_for_ambient_noise(source)\n",
    "        audio = recognizer.listen(source)\n",
    "\n",
    "        try:\n",
    "            print(\"Recognizing...\")\n",
    "            command = recognizer.recognize_google(audio)\n",
    "            print(f\"You said: {command}\")\n",
    "        except sr.UnknownValueError:\n",
    "            print(\"Sorry, I didn't understand your command.\")\n",
    "            command = \"\"\n",
    "        return command\n"
   ]
  },
  {
   "cell_type": "code",
   "execution_count": null,
   "id": "6e03fc23",
   "metadata": {},
   "outputs": [],
   "source": [
    "while True:\n",
    "    command = take_command().lower()\n",
    "\n",
    "    if \"hello\" in command:\n",
    "        speak(\"Hello! How can I help you?\")\n",
    "    elif \"back\" in command:\n",
    "        speak(\"Welcome back!\")\n",
    "        play_music()\n",
    "    elif \"exit\" in command:\n",
    "        speak(\"Goodbye!\")\n",
    "        break\n"
   ]
  }
 ],
 "metadata": {
  "kernelspec": {
   "display_name": "Python 3",
   "language": "python",
   "name": "python3"
  },
  "language_info": {
   "codemirror_mode": {
    "name": "ipython",
    "version": 3
   },
   "file_extension": ".py",
   "mimetype": "text/x-python",
   "name": "python",
   "nbconvert_exporter": "python",
   "pygments_lexer": "ipython3",
   "version": "3.8.8"
  }
 },
 "nbformat": 4,
 "nbformat_minor": 5
}
